{
  "nbformat": 4,
  "nbformat_minor": 0,
  "metadata": {
    "colab": {
      "provenance": [],
      "authorship_tag": "ABX9TyPr6uCasKakehFVM3kQmNAy",
      "include_colab_link": true
    },
    "kernelspec": {
      "name": "python3",
      "display_name": "Python 3"
    },
    "language_info": {
      "name": "python"
    }
  },
  "cells": [
    {
      "cell_type": "markdown",
      "metadata": {
        "id": "view-in-github",
        "colab_type": "text"
      },
      "source": [
        "<a href=\"https://colab.research.google.com/github/ariaardiansyah37/ML-A11.2021.13910-UAS/blob/main/Prediksi_Harga_Rumah_di_daerah_Jakarta_Selatan_Menggunakan_Metode_Regresi_Linear.ipynb\" target=\"_parent\"><img src=\"https://colab.research.google.com/assets/colab-badge.svg\" alt=\"Open In Colab\"/></a>"
      ]
    },
    {
      "cell_type": "markdown",
      "source": [
        "Prediksi Harga Rumah di daerah Jakarta Selatan Menggunakan Metode Regresi Linear\n",
        "NAMA : ARIA ARDIANSYAH WIBOWO\n",
        "NIM : A11.2021.13910\n",
        "KELAS : A11.4410\n",
        "\n",
        "LATAR BELAKANG\n",
        "\n",
        "Dalam bidang properti, prediksi harga rumah yang akurat sangat penting baik untuk pembeli maupun penjual. Dengan memiliki perkiraan nilai masa depan yang dapat diandalkan dari properti, pembeli dapat membuat keputusan yang terinformasi dan bernegosiasi harga secara efektif (Chin et al., 2019).\n",
        "\t Di sisi lain, penjual dapat menetapkan harga yang kompetitif berdasarkan tren pasar dan menghindari penentuan harga yang terlalu tinggi atau terlalu rendah untuk properti mereka. Saat ini, terdapat permintaan tinggi untuk perumahan di Jakarta Selatan, salah satu area perumahan paling diinginkan di Jakarta (Perdana et al., 2021)Permintaan tinggi ini, ditambah dengan perkembangan dan pertumbuhan kontinyu kota, telah menyebabkan fluktuasi harga rumah. Untuk mengatasi masalah ini, proposal ini bertujuan untuk menggunakan metode regresi linear untuk memprediksi harga rumah di Jakarta Selatan. Metode ini memungkinkan kita untuk menganalisis hubungan antara variabel independen (seperti jumlah kamar tidur, luas bangunan, dan jarak ke fasilitas) dan variabel dependen (harga rumah) untuk mengembangkan model prediksi (Chin et al., 2019).\n",
        "\t Penelitian yang diusulkan akan menggunakan data dari berbagai sumber, termasuk penelitian sebelumnya tentang perumahan di Jakarta Selatan dan faktor-faktor yang mempengaruhinya (Perdana et al., 2021)Dengan menggunakan metode regresi linear berganda, kita dapat menentukan variabel mana yang memiliki dampak signifikan pada harga rumah di area ini. Penelitian ini penting karena memberikan wawasan berharga bagi pembeli dan penjual di pasar properti, memungkinkan mereka untuk membuat keputusan yang lebih terinformasi mengenai penetapan harga dan strategi investasi (Chin et al., 2019).\n",
        "\t Penelitian ini akan menggunakan berbagai alat dan perangkat lunak seperti Microsoft Excel, R 3 (Perdana et al., 2021)6.3, dan Octave untuk menganalisis data dan mengembangkan model prediksi (Chin et al., 2019). Penelitian ini juga memiliki signifikansi dalam konteks perencanaan perkotaan dan pembuatan kebijakan (Perdana et al., 2021). Ini memberikan wawasan tentang faktor-faktor yang mempengaruhi harga rumah di Jakarta Selatan, yang dapat membantu perencana perkotaan membuat keputusan yang terinformasi mengenai pengembangan perumahan dan perbaikan infrastruktur. Secara keseluruhan, proposal untuk memprediksi harga rumah di Jakarta Selatan menggunakan metode regresi linear sangat penting baik untuk pembeli dan penjual di pasar properti maupun untuk perencana perkotaan dalam memastikan pembangunan yang berkelanjutan di area tersebut (Aulia & Chrisen, 2020)\n",
        "\t Penelitian yang diusulkan bertujuan untuk mengatasi masalah fluktuasi harga rumah di Jakarta Selatan, salah satu area perumahan paling dicari di Jakarta. Penelitian ini akan menganalisis hubungan antara berbagai variabel independen, seperti jumlah kamar tidur, luas bangunan, dan jarak ke fasilitas, dan variabel dependen dari harga rumah. Dengan mengembangkan model prediksi menggunakan regresi linear, kita dapat memprediksi harga rumah di Jakarta Selatan dengan akurat. Melalui penelitian ini, kita bertujuan untuk mengungkap faktor-faktor yang secara signifikan mempengaruhi harga rumah di Jakarta Selatan dan memberikan wawasan berharga bagi pembeli dan penjual di pasar properti. Penelitian ini penting karena akan membantu pembeli membuat keputusan yang terinformasi ketika membeli rumah di Jakarta Selatan, dan penjual menetapkan harga properti mereka dengan tepat. Selain itu, penelitian ini memiliki implikasi bagi perencanaan perkotaan dan pembuatan kebijakan. Ini dapat memberikan informasi berharga bagi perencana perkotaan dalam pengembangan perumahan dan perbaikan infrastruktur di Jakarta Selatan (Rochmatullah et al., 2020)\n",
        "\n",
        "METODE\n",
        "a.       Data Preprocessing\n",
        "Data preprocessing dilakukan untuk memastikan data yang akan diolah memiliki format dam fitur yang sesuai dengan kebutuhan. Data preprocessing meliputi pemilihan kolom, penyetaraan satuan variabel, pembersihan data dari outlier, dan standarisasi atau normalisasi\n",
        "b.      Membuat model.\n",
        "Dari data yang sudah diolah, selanjutnya akan dibentuk suatu model berdasarkan regresi linear. Dari data-data tersebut akan dicari persamaan regresi\n",
        "c.       Training Model\n",
        "Dataset yang telah dibersihkan akan digunakan untuk melatih model dengan skema 80:20.\n",
        "d.       Validasi.\n",
        "Validasi adalah proses menghitung dan menemukan kesalahan yang terjadi pada model. Proses validasi dapat dilakukan dengan menghitung korelasi dan MSE.\n",
        "\n",
        "MODEL\n",
        "a. Membaca Dataset\n",
        "b. Mengganti nilai non-numerik dengan angka\n",
        "c. Memisahkan Fitur dan Target\n",
        "d. Membagi data menjadi data latih dan data uji\n",
        "d. Membuat Model regresi linear\n",
        "f.Melakukan prediksi pada data uji\n",
        "g.Menghitung mean squared error\n",
        "\n",
        "DATASET\n",
        "Dataset yang digunakan adalah data set dari website https://www.kaggle.com/datasets/wisnuanggara/daftar-harga-rumah/data\n",
        "Dataset ini adalah kumpulan data yang mengenai harga rumah di daerah Jakarta Selatan. Dataset ini terdiri dari 7 kolom yang mencakup informasi sebagai berikut:\n",
        "1. HARGA: Merupakan variabel target yang menyimpan harga dari rumah.\n",
        "2. LT: Merupakan variabel yang menunjukkan jumlah luas tanah dari rumah.\n",
        "3. LB: Merupakan variabel yang menunjukkan jumlah luas bangunan dari rumah.\n",
        "4. JKT: Merupakan variabel yang menunjukkan jumlah kamar tidur yang dimiliki oleh rumah.\n",
        "5. JKM: Merupakan variabel yang menunjukkan jumlah kamar mandi yang dimiliki oleh rumah.\n",
        "6. GRS: Merupakan variabel yang menunjukkan apakah rumah memiliki garasi (dinyatakan dengan \"ada\" atau \"tidak ada\").\n",
        "7. KOTA: Merupakan variabel yang menunjukkan nama kota, yang dalam konteks ini adalah Jakarta Selatan.\n",
        "Dataset ini berpotensi digunakan untuk menganalisis dan memodelkan faktor-faktor yang memengaruhi harga rumah di daerah Jakarta Selatan, serta untuk memprediksi harga rumah di masa depan menggunakan teknik-teknik machine learning seperti regresi linear, regresi logistik, atau algoritma lainnya.\n",
        "\n",
        "import os\n",
        "from google.colab import files\n",
        "import pandas as pd\n",
        "from sklearn.model_selection import train_test_split\n",
        "from sklearn.linear_model import LinearRegression\n",
        "from sklearn.metrics import mean_squared_error\n",
        "\n",
        "# Memeriksa direktori saat ini\n",
        "print(\"Current Directory:\", os.getcwd())\n",
        "\n",
        "# Mengunggah file\n",
        "uploaded = files.upload()\n",
        "\n",
        "\n"
      ],
      "metadata": {
        "colab": {
          "base_uri": "https://localhost:8080/",
          "height": 90
        },
        "id": "pAAWQ1H42nZr",
        "outputId": "e2960088-c325-4571-bb95-5c5ec8e482c2"
      },
      "execution_count": 46,
      "outputs": [
        {
          "output_type": "stream",
          "name": "stdout",
          "text": [
            "Current Directory: /content\n"
          ]
        },
        {
          "output_type": "display_data",
          "data": {
            "text/plain": [
              "<IPython.core.display.HTML object>"
            ],
            "text/html": [
              "\n",
              "     <input type=\"file\" id=\"files-4d2ee5fa-5af1-43e3-818d-bfd8661e5773\" name=\"files[]\" multiple disabled\n",
              "        style=\"border:none\" />\n",
              "     <output id=\"result-4d2ee5fa-5af1-43e3-818d-bfd8661e5773\">\n",
              "      Upload widget is only available when the cell has been executed in the\n",
              "      current browser session. Please rerun this cell to enable.\n",
              "      </output>\n",
              "      <script>// Copyright 2017 Google LLC\n",
              "//\n",
              "// Licensed under the Apache License, Version 2.0 (the \"License\");\n",
              "// you may not use this file except in compliance with the License.\n",
              "// You may obtain a copy of the License at\n",
              "//\n",
              "//      http://www.apache.org/licenses/LICENSE-2.0\n",
              "//\n",
              "// Unless required by applicable law or agreed to in writing, software\n",
              "// distributed under the License is distributed on an \"AS IS\" BASIS,\n",
              "// WITHOUT WARRANTIES OR CONDITIONS OF ANY KIND, either express or implied.\n",
              "// See the License for the specific language governing permissions and\n",
              "// limitations under the License.\n",
              "\n",
              "/**\n",
              " * @fileoverview Helpers for google.colab Python module.\n",
              " */\n",
              "(function(scope) {\n",
              "function span(text, styleAttributes = {}) {\n",
              "  const element = document.createElement('span');\n",
              "  element.textContent = text;\n",
              "  for (const key of Object.keys(styleAttributes)) {\n",
              "    element.style[key] = styleAttributes[key];\n",
              "  }\n",
              "  return element;\n",
              "}\n",
              "\n",
              "// Max number of bytes which will be uploaded at a time.\n",
              "const MAX_PAYLOAD_SIZE = 100 * 1024;\n",
              "\n",
              "function _uploadFiles(inputId, outputId) {\n",
              "  const steps = uploadFilesStep(inputId, outputId);\n",
              "  const outputElement = document.getElementById(outputId);\n",
              "  // Cache steps on the outputElement to make it available for the next call\n",
              "  // to uploadFilesContinue from Python.\n",
              "  outputElement.steps = steps;\n",
              "\n",
              "  return _uploadFilesContinue(outputId);\n",
              "}\n",
              "\n",
              "// This is roughly an async generator (not supported in the browser yet),\n",
              "// where there are multiple asynchronous steps and the Python side is going\n",
              "// to poll for completion of each step.\n",
              "// This uses a Promise to block the python side on completion of each step,\n",
              "// then passes the result of the previous step as the input to the next step.\n",
              "function _uploadFilesContinue(outputId) {\n",
              "  const outputElement = document.getElementById(outputId);\n",
              "  const steps = outputElement.steps;\n",
              "\n",
              "  const next = steps.next(outputElement.lastPromiseValue);\n",
              "  return Promise.resolve(next.value.promise).then((value) => {\n",
              "    // Cache the last promise value to make it available to the next\n",
              "    // step of the generator.\n",
              "    outputElement.lastPromiseValue = value;\n",
              "    return next.value.response;\n",
              "  });\n",
              "}\n",
              "\n",
              "/**\n",
              " * Generator function which is called between each async step of the upload\n",
              " * process.\n",
              " * @param {string} inputId Element ID of the input file picker element.\n",
              " * @param {string} outputId Element ID of the output display.\n",
              " * @return {!Iterable<!Object>} Iterable of next steps.\n",
              " */\n",
              "function* uploadFilesStep(inputId, outputId) {\n",
              "  const inputElement = document.getElementById(inputId);\n",
              "  inputElement.disabled = false;\n",
              "\n",
              "  const outputElement = document.getElementById(outputId);\n",
              "  outputElement.innerHTML = '';\n",
              "\n",
              "  const pickedPromise = new Promise((resolve) => {\n",
              "    inputElement.addEventListener('change', (e) => {\n",
              "      resolve(e.target.files);\n",
              "    });\n",
              "  });\n",
              "\n",
              "  const cancel = document.createElement('button');\n",
              "  inputElement.parentElement.appendChild(cancel);\n",
              "  cancel.textContent = 'Cancel upload';\n",
              "  const cancelPromise = new Promise((resolve) => {\n",
              "    cancel.onclick = () => {\n",
              "      resolve(null);\n",
              "    };\n",
              "  });\n",
              "\n",
              "  // Wait for the user to pick the files.\n",
              "  const files = yield {\n",
              "    promise: Promise.race([pickedPromise, cancelPromise]),\n",
              "    response: {\n",
              "      action: 'starting',\n",
              "    }\n",
              "  };\n",
              "\n",
              "  cancel.remove();\n",
              "\n",
              "  // Disable the input element since further picks are not allowed.\n",
              "  inputElement.disabled = true;\n",
              "\n",
              "  if (!files) {\n",
              "    return {\n",
              "      response: {\n",
              "        action: 'complete',\n",
              "      }\n",
              "    };\n",
              "  }\n",
              "\n",
              "  for (const file of files) {\n",
              "    const li = document.createElement('li');\n",
              "    li.append(span(file.name, {fontWeight: 'bold'}));\n",
              "    li.append(span(\n",
              "        `(${file.type || 'n/a'}) - ${file.size} bytes, ` +\n",
              "        `last modified: ${\n",
              "            file.lastModifiedDate ? file.lastModifiedDate.toLocaleDateString() :\n",
              "                                    'n/a'} - `));\n",
              "    const percent = span('0% done');\n",
              "    li.appendChild(percent);\n",
              "\n",
              "    outputElement.appendChild(li);\n",
              "\n",
              "    const fileDataPromise = new Promise((resolve) => {\n",
              "      const reader = new FileReader();\n",
              "      reader.onload = (e) => {\n",
              "        resolve(e.target.result);\n",
              "      };\n",
              "      reader.readAsArrayBuffer(file);\n",
              "    });\n",
              "    // Wait for the data to be ready.\n",
              "    let fileData = yield {\n",
              "      promise: fileDataPromise,\n",
              "      response: {\n",
              "        action: 'continue',\n",
              "      }\n",
              "    };\n",
              "\n",
              "    // Use a chunked sending to avoid message size limits. See b/62115660.\n",
              "    let position = 0;\n",
              "    do {\n",
              "      const length = Math.min(fileData.byteLength - position, MAX_PAYLOAD_SIZE);\n",
              "      const chunk = new Uint8Array(fileData, position, length);\n",
              "      position += length;\n",
              "\n",
              "      const base64 = btoa(String.fromCharCode.apply(null, chunk));\n",
              "      yield {\n",
              "        response: {\n",
              "          action: 'append',\n",
              "          file: file.name,\n",
              "          data: base64,\n",
              "        },\n",
              "      };\n",
              "\n",
              "      let percentDone = fileData.byteLength === 0 ?\n",
              "          100 :\n",
              "          Math.round((position / fileData.byteLength) * 100);\n",
              "      percent.textContent = `${percentDone}% done`;\n",
              "\n",
              "    } while (position < fileData.byteLength);\n",
              "  }\n",
              "\n",
              "  // All done.\n",
              "  yield {\n",
              "    response: {\n",
              "      action: 'complete',\n",
              "    }\n",
              "  };\n",
              "}\n",
              "\n",
              "scope.google = scope.google || {};\n",
              "scope.google.colab = scope.google.colab || {};\n",
              "scope.google.colab._files = {\n",
              "  _uploadFiles,\n",
              "  _uploadFilesContinue,\n",
              "};\n",
              "})(self);\n",
              "</script> "
            ]
          },
          "metadata": {}
        },
        {
          "output_type": "stream",
          "name": "stdout",
          "text": [
            "Saving JAKSEL.xlsx to JAKSEL (6).xlsx\n"
          ]
        }
      ]
    },
    {
      "cell_type": "code",
      "source": [
        "#Agar mempermudah kita dalam memproses data. Kita perlu merubah data kategorikal kedalam data numerik\n",
        "# Mengganti nilai non-numerik dengan angka\n",
        "data['GRS'] = data['GRS'].map({'ADA': 1, 'TIDAK ADA': 0})\n",
        "\n",
        "# Memeriksa hasil penggantian\n",
        "print(data['GRS'].unique())\n"
      ],
      "metadata": {
        "colab": {
          "base_uri": "https://localhost:8080/"
        },
        "id": "nfvHMbsN_ZvH",
        "outputId": "3eb9faf3-a2bc-4164-c8c1-96b0503cf663"
      },
      "execution_count": 50,
      "outputs": [
        {
          "output_type": "stream",
          "name": "stdout",
          "text": [
            "[1 0]\n"
          ]
        }
      ]
    },
    {
      "cell_type": "code",
      "source": [
        "from sklearn.preprocessing import LabelEncoder\n",
        "\n",
        "# Menggunakan LabelEncoder untuk kolom kategorikal\n",
        "label_encoder = LabelEncoder()\n",
        "data['KOTA'] = label_encoder.fit_transform(data['KOTA'])\n",
        "\n",
        "# Memeriksa hasil penggantian\n",
        "print(data['KOTA'].unique())\n"
      ],
      "metadata": {
        "colab": {
          "base_uri": "https://localhost:8080/"
        },
        "id": "BhpLiGZ9_gdl",
        "outputId": "be43ec29-04a8-4cb2-a9c5-bd5914abb167"
      },
      "execution_count": 51,
      "outputs": [
        {
          "output_type": "stream",
          "name": "stdout",
          "text": [
            "[0]\n"
          ]
        }
      ]
    },
    {
      "cell_type": "code",
      "source": [
        "# Menghapus kolom yang tidak relevan\n",
        "data = data.drop(columns=['KOTA'])\n"
      ],
      "metadata": {
        "id": "cCftoeCI_jwq"
      },
      "execution_count": 52,
      "outputs": []
    },
    {
      "cell_type": "code",
      "source": [
        "# Memeriksa kembali tipe data setelah pembersihan\n",
        "print(data.dtypes)\n"
      ],
      "metadata": {
        "colab": {
          "base_uri": "https://localhost:8080/"
        },
        "id": "RMcSFZG7_mpt",
        "outputId": "c3af57f3-0910-4190-e7d0-1757dec17928"
      },
      "execution_count": 53,
      "outputs": [
        {
          "output_type": "stream",
          "name": "stdout",
          "text": [
            "HARGA    int64\n",
            "LT       int64\n",
            "LB       int64\n",
            "JKT      int64\n",
            "JKM      int64\n",
            "GRS      int64\n",
            "dtype: object\n"
          ]
        }
      ]
    },
    {
      "cell_type": "code",
      "source": [
        "from sklearn.model_selection import train_test_split\n",
        "from sklearn.linear_model import LinearRegression\n",
        "from sklearn.metrics import mean_squared_error\n",
        "\n",
        "# Memisahkan fitur dan target\n",
        "features = ['LT', 'LB', 'JKT', 'JKM', 'GRS']\n",
        "target = 'HARGA'\n",
        "\n",
        "# Memisahkan fitur dan target\n",
        "X = data[features]\n",
        "y = data[target]\n",
        "\n",
        "# Membagi data menjadi set pelatihan dan set pengujian\n",
        "X_train, X_test, y_train, y_test = train_test_split(X, y, test_size=0.2, random_state=42)\n",
        "\n",
        "# Membuat dan melatih model regresi linear\n",
        "model = LinearRegression()\n",
        "model.fit(X_train, y_train)\n",
        "\n",
        "# Memprediksi harga pada set pengujian\n",
        "y_pred = model.predict(X_test)\n",
        "\n",
        "# Menghitung Mean Squared Error (MSE)\n",
        "mse = mean_squared_error(y_test, y_pred)\n",
        "print(f'Mean Squared Error: {mse}')\n",
        "\n",
        "# Menampilkan koefisien dan intersep dari model\n",
        "print('Koefisien:', model.coef_)\n",
        "print('Intersep:', model.intercept_)\n",
        "\n",
        "# Kesimpulan dari Data dan Model Regresi Linear\n",
        "\n",
        "#Berdasarkan hasil model regresi linear yang telah Anda latih, berikut adalah beberapa kesimpulan yang dapat diambil dari data tersebut:\n",
        "\n",
        " #1. Mean Squared Error (MSE)\n",
        "  # - Nilai MSE: `7.669595641889164e+19`\n",
        "  #- Interpretasi: MSE mengukur rata-rata kuadrat kesalahan prediksi. Nilai MSE yang sangat besar ini menunjukkan bahwa ada kesalahan yang cukup besar antara nilai prediksi dan nilai aktual dalam data pengujian. Ini bisa disebabkan oleh beberapa faktor, seperti outliers dalam data, fitur yang kurang relevan, atau hubungan non-linear antara fitur dan target yang tidak dapat ditangkap dengan baik oleh model regresi linear.\n",
        "\n",
        " #2. Koefisien Model\n",
        "  # - Koefisien:\n",
        "   #  - `LT (Luas Tanah)`: `2.31156270e+07`\n",
        "   # - `LB (Luas Bangunan)`: `1.05042020e+07`\n",
        "   #  - `JKT (Jumlah Kamar Tidur)`: `1.98601700e+08`\n",
        "   # - `JKM (Jumlah Kamar Mandi)`: `3.33453270e+08`\n",
        "   #  - `GRS (Garasi)`: `1.93394769e+09`\n",
        "   #- Interpretasi: Koefisien menunjukkan perubahan rata-rata dalam target (harga rumah) untuk setiap unit perubahan dalam fitur, dengan asumsi fitur lain konstan.\n",
        "    # - Setiap peningkatan 1 m² dalam luas tanah diperkirakan akan meningkatkan harga rumah sekitar 23,115,627 IDR.\n",
        "     #- Setiap peningkatan 1 m² dalam luas bangunan diperkirakan akan meningkatkan harga rumah sekitar 10,504,202 IDR.\n",
        "     #- Setiap penambahan 1 kamar tidur diperkirakan akan meningkatkan harga rumah sekitar 198,601,700 IDR.\n",
        "     #- Setiap penambahan 1 kamar mandi diperkirakan akan meningkatkan harga rumah sekitar 333,453,270 IDR.\n",
        "     #- Adanya garasi diperkirakan akan meningkatkan harga rumah sekitar 1,933,947,690 IDR.\n",
        "\n",
        " #3. Intersep Model\n",
        "  # - Intersep: `-3,619,443,876.196186`\n",
        "   #- Interpretasi: Intersep adalah nilai prediksi harga rumah ketika semua fitur adalah nol. Nilai negatif intersep ini tidak memiliki makna praktis yang signifikan dalam konteks ini karena tidak mungkin memiliki rumah dengan semua fitur bernilai nol. Intersep lebih merupakan titik referensi dari mana prediksi dibuat berdasarkan koefisien fitur.\n",
        "\n",
        " #Analisis Tambahan\n",
        "\n",
        "#1. Kualitas Model: Nilai MSE yang sangat besar menunjukkan bahwa model mungkin tidak menangkap dengan baik hubungan antara fitur dan target. Pertimbangkan untuk:\n",
        "  #  - Mengeksplorasi data lebih lanjut untuk menemukan dan mengatasi outliers.\n",
        "  # - Menambahkan atau mengubah fitur untuk mencerminkan hubungan yang lebih kompleks.\n",
        "  #- Menggunakan model yang lebih kompleks seperti pohon keputusan, random forest, atau model non-linear lainnya.\n",
        "\n",
        "#2. Signifikansi Fitur: Koefisien yang sangat besar (terutama untuk garasi) menunjukkan bahwa fitur-fitur ini memiliki pengaruh besar terhadap harga rumah. Validasi ini dengan domain knowledge (pengetahuan lokal) dapat memberikan wawasan tambahan tentang seberapa realistis pengaruh fitur-fitur tersebut.\n",
        "\n",
        "#3. Pembersihan dan Pra-pemrosesan Data: Pastikan data sudah dibersihkan dengan benar, menghilangkan atau menangani nilai yang hilang, mengoreksi anomali data, dan memastikan semua fitur relevan untuk model.\n",
        "\n"
      ],
      "metadata": {
        "colab": {
          "base_uri": "https://localhost:8080/"
        },
        "id": "l6Kl0-gL_tr6",
        "outputId": "1294710c-512d-4220-8d4f-c97667003d71"
      },
      "execution_count": 56,
      "outputs": [
        {
          "output_type": "stream",
          "name": "stdout",
          "text": [
            "Mean Squared Error: 7.669595641889164e+19\n",
            "Koefisien: [2.31156270e+07 1.05042020e+07 1.98601700e+08 3.33453270e+08\n",
            " 1.93394769e+09]\n",
            "Intersep: -3619443876.196186\n"
          ]
        }
      ]
    },
    {
      "cell_type": "code",
      "source": [
        "# Contoh fitur untuk rumah baru\n",
        "luas_tanah_baru = 150\n",
        "luas_bangunan_baru = 120\n",
        "jumlah_kamar_tidur_baru = 3\n",
        "jumlah_kamar_mandi_baru = 2\n",
        "garasi_baru = 1\n",
        "\n",
        "# Menggunakan format string untuk menampilkan harga dalam format Rupiah\n",
        "harga_prediksi = model.predict([[luas_tanah_baru, luas_bangunan_baru, jumlah_kamar_tidur_baru, jumlah_kamar_mandi_baru, garasi_baru]])\n",
        "\n",
        "# Format harga dalam format Rupiah\n",
        "harga_prediksi_rupiah = f\"Rp {harga_prediksi[0]:,.0f}\"\n",
        "print(f'Prediksi harga untuk rumah dengan luas tanah {luas_tanah_baru} m², luas bangunan {luas_bangunan_baru} m², {jumlah_kamar_tidur_baru} kamar tidur, {jumlah_kamar_mandi_baru} kamar mandi, dan {garasi_baru} garasi adalah {harga_prediksi_rupiah}')\n",
        "\n",
        "\n",
        "#Kesimpulan Prediksi Harga Rumah\n",
        "\n",
        "# Spesifikasi Rumah\n",
        "#- Luas Tanah: 150 m²\n",
        "#- Luas Bangunan: 120 m²\n",
        "#- Jumlah Kamar Tidur: 3\n",
        "#- Jumlah Kamar Mandi: 2\n",
        "#- Garasi: 1\n",
        "\n",
        " #Hasil Prediksi\n",
        "#- Prediksi Harga: Rp 4,305,063,746\n",
        "\n",
        " #Ringkasan Analisis\n",
        "#- Pengaruh Fitur:\n",
        " # - Luas Tanah: Kontribusi signifikan dengan peningkatan harga sekitar Rp 23 juta per m².\n",
        "  #- Luas Bangunan: Peningkatan harga sekitar Rp 10,5 juta per m².\n",
        "  #- Kamar Tidur: Peningkatan harga sekitar Rp 198 juta per kamar.\n",
        "  #- Kamar Mandi: Peningkatan harga sekitar Rp 333 juta per kamar.\n",
        "  #- Garasi: Kontribusi besar dengan peningkatan harga sekitar Rp 1,9 miliar.\n",
        "  #- Intersep Model: Negatif, menunjukkan bahwa model perlu dikalibrasi lebih lanjut.\n",
        "\n",
        "# Kesimpulan Akhir\n",
        "#Model memberikan estimasi awal yang cukup tinggi untuk rumah dengan spesifikasi di atas. Namun, nilai MSE yang besar menunjukkan perlunya peningkatan lebih lanjut pada model.\n"
      ],
      "metadata": {
        "colab": {
          "base_uri": "https://localhost:8080/"
        },
        "id": "DV5sJGhIiArn",
        "outputId": "768b97a6-a78c-4fcc-df6e-a6a141b02da6"
      },
      "execution_count": 55,
      "outputs": [
        {
          "output_type": "stream",
          "name": "stdout",
          "text": [
            "Prediksi harga untuk rumah dengan luas tanah 150 m², luas bangunan 120 m², 3 kamar tidur, 2 kamar mandi, dan 1 garasi adalah Rp 4,305,063,746\n"
          ]
        },
        {
          "output_type": "stream",
          "name": "stderr",
          "text": [
            "/usr/local/lib/python3.10/dist-packages/sklearn/base.py:439: UserWarning: X does not have valid feature names, but LinearRegression was fitted with feature names\n",
            "  warnings.warn(\n"
          ]
        }
      ]
    }
  ]
}
